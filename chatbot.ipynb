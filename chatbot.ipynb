{
 "cells": [
  {
   "cell_type": "code",
   "execution_count": null,
   "id": "03e11778-0a55-4f46-851a-88aaed894b7f",
   "metadata": {},
   "outputs": [
    {
     "name": "stdout",
     "output_type": "stream",
     "text": [
      "ChatBot: Hello! Type 'exit' to end the conversation.\n"
     ]
    },
    {
     "name": "stdin",
     "output_type": "stream",
     "text": [
      "You:  hi \n"
     ]
    },
    {
     "name": "stdout",
     "output_type": "stream",
     "text": [
      "ChatBot: Hello! How can I assist you today?\n"
     ]
    },
    {
     "name": "stdin",
     "output_type": "stream",
     "text": [
      "You:  what is your name\n"
     ]
    },
    {
     "name": "stdout",
     "output_type": "stream",
     "text": [
      "ChatBot: I'm ChatBot, your virtual assistant.\n"
     ]
    },
    {
     "name": "stdin",
     "output_type": "stream",
     "text": [
      "You:  how old are you\n"
     ]
    },
    {
     "name": "stdout",
     "output_type": "stream",
     "text": [
      "ChatBot: I'm  a day old!\n"
     ]
    },
    {
     "name": "stdin",
     "output_type": "stream",
     "text": [
      "You:  who created you\n"
     ]
    },
    {
     "name": "stdout",
     "output_type": "stream",
     "text": [
      "ChatBot: I was created by Shivani Gajjalwar.\n"
     ]
    },
    {
     "name": "stdin",
     "output_type": "stream",
     "text": [
      "You:  what can you do for me\n"
     ]
    },
    {
     "name": "stdout",
     "output_type": "stream",
     "text": [
      "ChatBot: I can chat with you and provide information on time, date, jokes, and more. Just type 'help' to see what I can assist with.\n"
     ]
    },
    {
     "name": "stdin",
     "output_type": "stream",
     "text": [
      "You:  ok then tell me the weather updates\n"
     ]
    },
    {
     "name": "stdout",
     "output_type": "stream",
     "text": [
      "ChatBot: I'm not able to provide real-time weather updates yet. Please check a weather website.\n"
     ]
    },
    {
     "name": "stdin",
     "output_type": "stream",
     "text": [
      "You:  tell me a joke\n"
     ]
    },
    {
     "name": "stdout",
     "output_type": "stream",
     "text": [
      "ChatBot: What do you get if you cross a snowman and a vampire? Frostbite!\n"
     ]
    },
    {
     "name": "stdin",
     "output_type": "stream",
     "text": [
      "You:  what is the current time\n"
     ]
    },
    {
     "name": "stdout",
     "output_type": "stream",
     "text": [
      "ChatBot: The current time is 01:29.\n"
     ]
    }
   ],
   "source": [
    "import re\n",
    "from datetime import datetime\n",
    "import random\n",
    "\n",
    "def chatbot_response(user_input):\n",
    "    # Convert user input to lowercase for case-insensitive matching\n",
    "    user_input = user_input.lower()\n",
    "\n",
    "    # Define responses based on specific patterns\n",
    "    if re.search(r'\\bhello\\b|\\bhi\\b|\\bhey\\b', user_input):\n",
    "        return \"Hello! How can I assist you today?\"\n",
    "\n",
    "    elif re.search(r'\\bhow are you\\b', user_input):\n",
    "        return \"I'm a chatbot, so I don't have feelings, but I'm here to help you!\"\n",
    "\n",
    "    elif re.search(r'\\bweather\\b', user_input):\n",
    "        return \"I'm not able to provide real-time weather updates yet. Please check a weather website.\"\n",
    "\n",
    "    elif re.search(r'\\bname\\b', user_input):\n",
    "        return \"I'm ChatBot, your virtual assistant.\"\n",
    "\n",
    "    elif re.search(r'\\btime\\b', user_input):\n",
    "        now = datetime.now().strftime(\"%H:%M\")\n",
    "        return f\"The current time is {now}.\"\n",
    "\n",
    "    elif re.search(r'\\bdate\\b', user_input):\n",
    "        today = datetime.now().strftime(\"%Y-%m-%d\")\n",
    "        return f\"Today's date is {today}.\"\n",
    "\n",
    "    elif re.search(r'\\bjoke\\b', user_input):\n",
    "        jokes = [\n",
    "            \"Why don't scientists trust atoms? Because they make up everything!\",\n",
    "            \"Why did the scarecrow win an award? Because he was outstanding in his field!\",\n",
    "            \"What do you get if you cross a snowman and a vampire? Frostbite!\"\n",
    "        ]\n",
    "        return random.choice(jokes)\n",
    "\n",
    "    elif re.search(r'\\bhelp\\b', user_input):\n",
    "        return (\"I can assist with the following queries:\\n\"\n",
    "                \"1. Greetings (hello, hi, hey)\\n\"\n",
    "                \"2. How are you?\\n\"\n",
    "                \"3. Ask for my name\\n\"\n",
    "                \"4. Time (current time)\\n\"\n",
    "                \"5. Date (today's date)\\n\"\n",
    "                \"6. Weather\\n\"\n",
    "                \"7. Tell a joke\\n\"\n",
    "                \"8. Exit (bye, exit, quit)\")\n",
    "\n",
    "    elif re.search(r'\\bbye\\b|\\bexit\\b|\\bquit\\b', user_input):\n",
    "        return \"Goodbye! Have a great day!\"\n",
    "\n",
    "    elif re.search(r'\\bwho created you\\b', user_input):\n",
    "        return \"I was created by Shivani Gajjalwar.\"\n",
    "\n",
    "    elif re.search(r'\\bwhat can you do\\b', user_input):\n",
    "        return (\"I can chat with you and provide information on time, date, jokes, and more. \"\n",
    "                \"Just type 'help' to see what I can assist with.\")\n",
    "\n",
    "    elif re.search(r'\\bthank you\\b|\\bthanks\\b', user_input):\n",
    "        return \"You're welcome! I'm here to help.\"\n",
    "\n",
    "    elif re.search(r'\\bhow old are you\\b', user_input):\n",
    "        return \"I'm  a day old!\"\n",
    "\n",
    "    else:\n",
    "        return \"I'm sorry, I don't understand that. Can you please rephrase?\"\n",
    "\n",
    "def main():\n",
    "    print(\"ChatBot: Hello! Type 'exit' to end the conversation.\")\n",
    "    while True:\n",
    "        user_input = input(\"You: \")\n",
    "        if re.search(r'\\bexit\\b|\\bbye\\b|\\bquit\\b', user_input.lower()):\n",
    "            print(\"ChatBot: Goodbye! Have a great day!\")\n",
    "            break\n",
    "        response = chatbot_response(user_input)\n",
    "        print(f\"ChatBot: {response}\")\n",
    "\n",
    "if __name__ == \"__main__\":\n",
    "    main()\n",
    "\n"
   ]
  },
  {
   "cell_type": "code",
   "execution_count": null,
   "id": "acadda99-9f2c-4170-a7f6-7f9f1959504b",
   "metadata": {},
   "outputs": [],
   "source": []
  }
 ],
 "metadata": {
  "kernelspec": {
   "display_name": "Python 3 (ipykernel)",
   "language": "python",
   "name": "python3"
  },
  "language_info": {
   "codemirror_mode": {
    "name": "ipython",
    "version": 3
   },
   "file_extension": ".py",
   "mimetype": "text/x-python",
   "name": "python",
   "nbconvert_exporter": "python",
   "pygments_lexer": "ipython3",
   "version": "3.9.0"
  }
 },
 "nbformat": 4,
 "nbformat_minor": 5
}
