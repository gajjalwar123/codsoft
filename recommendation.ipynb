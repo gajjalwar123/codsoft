{
 "cells": [
  {
   "cell_type": "code",
   "execution_count": 1,
   "id": "7a3963e4-02cf-4e59-9679-ab11a50100f2",
   "metadata": {},
   "outputs": [],
   "source": [
    "import pandas as pd\n",
    "import numpy as np\n",
    "from sklearn.metrics.pairwise import cosine_similarity\n"
   ]
  },
  {
   "cell_type": "code",
   "execution_count": 3,
   "id": "5e09958e-84f8-4cc2-81a2-6c80057233c7",
   "metadata": {},
   "outputs": [],
   "source": [
    "# Load the dataset\n",
    "ratings = pd.read_csv('ratings.csv')\n",
    "\n",
    "# Create a pivot table with users as rows, movies as columns, and ratings as values\n",
    "user_movie_matrix = ratings.pivot_table(index='user_id', columns='movie_id', values='ratings')\n",
    "\n",
    "# Fill NaN values with 0 (or you could use the mean rating of each movie/user if preferred)\n",
    "user_movie_matrix = user_movie_matrix.fillna(0)\n"
   ]
  },
  {
   "cell_type": "code",
   "execution_count": 4,
   "id": "778d8c92-a5d0-4743-a268-11a42ea70933",
   "metadata": {},
   "outputs": [],
   "source": [
    "# Calculate the cosine similarity between users\n",
    "user_similarity = cosine_similarity(user_movie_matrix)\n",
    "\n",
    "# Convert the similarity matrix to a DataFrame for easier manipulation\n",
    "user_similarity_df = pd.DataFrame(user_similarity, index=user_movie_matrix.index, columns=user_movie_matrix.index)\n"
   ]
  },
  {
   "cell_type": "code",
   "execution_count": 5,
   "id": "482d2664-8a9f-4e07-b3d3-9efce7d9055e",
   "metadata": {},
   "outputs": [
    {
     "name": "stdout",
     "output_type": "stream",
     "text": [
      "Recommendations for User 1:\n",
      "Series([], dtype: float64)\n"
     ]
    }
   ],
   "source": [
    "def get_recommendations(user_id, user_movie_matrix, user_similarity_df, n_recommendations=5):\n",
    "    # Find similar users\n",
    "    similar_users = user_similarity_df[user_id].sort_values(ascending=False).index[1:]\n",
    "\n",
    "    # Get the ratings of the similar users\n",
    "    similar_users_ratings = user_movie_matrix.loc[similar_users]\n",
    "\n",
    "    # Compute the weighted sum of ratings of similar users\n",
    "    weighted_sum_ratings = similar_users_ratings.apply(lambda row: np.dot(row, user_similarity_df[user_id].loc[similar_users]), axis=0)\n",
    "\n",
    "    # Compute the sum of similarities for normalization\n",
    "    similarity_sum = user_similarity_df[user_id].loc[similar_users].sum()\n",
    "\n",
    "    # Compute the weighted average of ratings\n",
    "    recommendations = weighted_sum_ratings / similarity_sum\n",
    "\n",
    "    # Filter out movies the user has already rated\n",
    "    user_rated_movies = user_movie_matrix.loc[user_id]\n",
    "    recommendations = recommendations[user_rated_movies == 0]\n",
    "\n",
    "    # Return the top n recommendations\n",
    "    return recommendations.sort_values(ascending=False).head(n_recommendations)\n",
    "\n",
    "# Example: Get recommendations for user 1\n",
    "recommendations = get_recommendations(user_id=1, user_movie_matrix=user_movie_matrix, user_similarity_df=user_similarity_df)\n",
    "print(\"Recommendations for User 1:\")\n",
    "print(recommendations)\n"
   ]
  },
  {
   "cell_type": "code",
   "execution_count": null,
   "id": "d287d3df-b3a3-46aa-af99-2aaeea048707",
   "metadata": {},
   "outputs": [],
   "source": []
  }
 ],
 "metadata": {
  "kernelspec": {
   "display_name": "Python 3 (ipykernel)",
   "language": "python",
   "name": "python3"
  },
  "language_info": {
   "codemirror_mode": {
    "name": "ipython",
    "version": 3
   },
   "file_extension": ".py",
   "mimetype": "text/x-python",
   "name": "python",
   "nbconvert_exporter": "python",
   "pygments_lexer": "ipython3",
   "version": "3.9.0"
  }
 },
 "nbformat": 4,
 "nbformat_minor": 5
}
