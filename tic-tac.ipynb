{
 "cells": [
  {
   "cell_type": "code",
   "execution_count": 1,
   "id": "7fb59c23-5250-47e1-9d90-62379e3e0edc",
   "metadata": {},
   "outputs": [],
   "source": [
    "class TicTacToe:\n",
    "    def __init__(self):\n",
    "        self.board = [['' for _ in range(3)] for _ in range(3)]\n",
    "    \n",
    "    def print_board(self):\n",
    "        for row in self.board:\n",
    "            print('|'.join([cell or ' ' for cell in row]))\n",
    "            print('-' * 5)\n",
    "    \n",
    "    def is_full(self):\n",
    "        return all(cell != '' for row in self.board for cell in row)\n",
    "    \n",
    "    def is_winner(self, player):\n",
    "        # Check rows, columns and diagonals\n",
    "        return any(all(cell == player for cell in row) for row in self.board) or \\\n",
    "               any(all(row[i] == player for row in self.board) for i in range(3)) or \\\n",
    "               all(self.board[i][i] == player for i in range(3)) or \\\n",
    "               all(self.board[i][2 - i] == player for i in range(3))\n",
    "\n",
    "    def make_move(self, row, col, player):\n",
    "        if self.board[row][col] == '':\n",
    "            self.board[row][col] = player\n",
    "            return True\n",
    "        return False\n",
    "\n",
    "    def undo_move(self, row, col):\n",
    "        self.board[row][col] = ''\n"
   ]
  },
  {
   "cell_type": "code",
   "execution_count": 2,
   "id": "7ee62356-9d17-4c63-bba1-f6f8db0f1e38",
   "metadata": {},
   "outputs": [],
   "source": [
    "def minimax(board, depth, is_maximizing, alpha, beta):\n",
    "    if board.is_winner('X'):\n",
    "        return -1\n",
    "    if board.is_winner('O'):\n",
    "        return 1\n",
    "    if board.is_full():\n",
    "        return 0\n",
    "\n",
    "    if is_maximizing:\n",
    "        max_eval = float('-inf')\n",
    "        for i in range(3):\n",
    "            for j in range(3):\n",
    "                if board.board[i][j] == '':\n",
    "                    board.make_move(i, j, 'O')\n",
    "                    eval = minimax(board, depth + 1, False, alpha, beta)\n",
    "                    board.undo_move(i, j)\n",
    "                    max_eval = max(max_eval, eval)\n",
    "                    alpha = max(alpha, eval)\n",
    "                    if beta <= alpha:\n",
    "                        return max_eval\n",
    "        return max_eval\n",
    "    else:\n",
    "        min_eval = float('inf')\n",
    "        for i in range(3):\n",
    "            for j in range(3):\n",
    "                if board.board[i][j] == '':\n",
    "                    board.make_move(i, j, 'X')\n",
    "                    eval = minimax(board, depth + 1, True, alpha, beta)\n",
    "                    board.undo_move(i, j)\n",
    "                    min_eval = min(min_eval, eval)\n",
    "                    beta = min(beta, eval)\n",
    "                    if beta <= alpha:\n",
    "                        return min_eval\n",
    "        return min_eval\n"
   ]
  },
  {
   "cell_type": "code",
   "execution_count": 3,
   "id": "39391b2e-0421-45f3-a133-82b2172b94cd",
   "metadata": {},
   "outputs": [],
   "source": [
    "def find_best_move(board):\n",
    "    best_val = float('-inf')\n",
    "    best_move = (-1, -1)\n",
    "    for i in range(3):\n",
    "        for j in range(3):\n",
    "            if board.board[i][j] == '':\n",
    "                board.make_move(i, j, 'O')\n",
    "                move_val = minimax(board, 0, False, float('-inf'), float('inf'))\n",
    "                board.undo_move(i, j)\n",
    "                if move_val > best_val:\n",
    "                    best_val = move_val\n",
    "                    best_move = (i, j)\n",
    "    return best_move\n"
   ]
  },
  {
   "cell_type": "code",
   "execution_count": null,
   "id": "6a072a56-9fde-4b05-8503-704f82f81590",
   "metadata": {},
   "outputs": [
    {
     "name": "stdout",
     "output_type": "stream",
     "text": [
      " | | \n",
      "-----\n",
      " | | \n",
      "-----\n",
      " | | \n",
      "-----\n"
     ]
    },
    {
     "name": "stdin",
     "output_type": "stream",
     "text": [
      "Enter your move (row and column):  1 2\n"
     ]
    },
    {
     "name": "stdout",
     "output_type": "stream",
     "text": [
      " | |O\n",
      "-----\n",
      " | |X\n",
      "-----\n",
      " | | \n",
      "-----\n"
     ]
    }
   ],
   "source": [
    "def main():\n",
    "    game = TicTacToe()\n",
    "    human_player = 'X'\n",
    "    ai_player = 'O'\n",
    "\n",
    "    while not game.is_full() and not game.is_winner(human_player) and not game.is_winner(ai_player):\n",
    "        game.print_board()\n",
    "        row, col = map(int, input(\"Enter your move (row and column): \").split())\n",
    "        if game.make_move(row, col, human_player):\n",
    "            if not game.is_full() and not game.is_winner(human_player):\n",
    "                ai_move = find_best_move(game)\n",
    "                game.make_move(ai_move[0], ai_move[1], ai_player)\n",
    "        else:\n",
    "            print(\"Invalid move! Try again.\")\n",
    "    \n",
    "    game.print_board()\n",
    "    if game.is_winner(human_player):\n",
    "        print(\"Congratulations! You won!\")\n",
    "    elif game.is_winner(ai_player):\n",
    "        print(\"AI wins! Better luck next time.\")\n",
    "    else:\n",
    "        print(\"It's a draw!\")\n",
    "\n",
    "if __name__ == \"__main__\":\n",
    "    main()\n"
   ]
  },
  {
   "cell_type": "code",
   "execution_count": null,
   "id": "3b26af91-6c50-44d5-81d4-0dba1702f139",
   "metadata": {},
   "outputs": [],
   "source": []
  }
 ],
 "metadata": {
  "kernelspec": {
   "display_name": "Python 3 (ipykernel)",
   "language": "python",
   "name": "python3"
  },
  "language_info": {
   "codemirror_mode": {
    "name": "ipython",
    "version": 3
   },
   "file_extension": ".py",
   "mimetype": "text/x-python",
   "name": "python",
   "nbconvert_exporter": "python",
   "pygments_lexer": "ipython3",
   "version": "3.9.0"
  }
 },
 "nbformat": 4,
 "nbformat_minor": 5
}
